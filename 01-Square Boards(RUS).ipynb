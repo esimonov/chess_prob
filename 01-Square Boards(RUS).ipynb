{
 "cells": [
  {
   "cell_type": "markdown",
   "metadata": {},
   "source": [
    "# О вероятности попасть под удар фигуры, поставленной случайным образом на шахматную доску\n"
   ]
  },
  {
   "cell_type": "markdown",
   "metadata": {},
   "source": [
    "На шахматную доску случайным образом поставлены две фигуры. С какой вероятностью первая фигура бьёт вторую? В данном документе представлен расчёт этой вероятности для каждой шахматной фигуры как функции от размера доски. Рассмотрены только квадратные доски. Фигуры полагаются поставленными одновременно (обязательно стоят на разных клетках), выбор каждого из полей равновероятен."
   ]
  },
  {
   "cell_type": "markdown",
   "metadata": {},
   "source": [
    "Степень (валентность) вершины $v$ графа $G$ - количество рёбер графа $G$, инцидентных вершине $v$."
   ]
  },
  {
   "cell_type": "markdown",
   "metadata": {},
   "source": [
    "Граф ходов шахматной фигуры (далее Граф) - граф, изображающий все возможные ходы фигуры на шахматной доске - каждая вершина соответствует клетке на доске, а рёбра соответствуют возможным ходам.\n",
    "Тогда валентность вершины Графа - количество полей, которые бьёт фигура, будучи поставленной на соответствующую этой вершине клетку. В целях упрощения речи далее в тексте используется формулировка \"клетка имеет валентность\", однако понятно, что валентность имеет не клетка, а соответствующая ей вершина в Графе."
   ]
  },
  {
   "cell_type": "markdown",
   "metadata": {},
   "source": [
    "Если событие $X$ может произойти только при выполнении одного из событий $H_1, H_2,..., H_n$, которые образуют полную группу несовместных событий, то вероятность $P(X)$ вычисляется по формуле: $$P(X) = P(H_1) \\cdot P(X|H_1) + P(H_2) \\cdot P(X|H_2) + ... + P(H_n) \\cdot P(X|H_n),$$ которая называется формулой полной вероятности."
   ]
  },
  {
   "cell_type": "markdown",
   "metadata": {},
   "source": [
    "Пусть событие $X_{фигура}$ = «Первая *фигура* бьёт вторую на доске размера $n\\times n$», $a$ - некоторое значение валентности, $b$ - количество клеток, имеющих валентность $a$, каждая из гипотез $H_i$ = «Первая фигура стоит на клетке с валентностью $a_i$». Тогда $P(H_i) = \\frac{b_i}{n^{2}}$ в силу классического определения вероятности - это отношение количества исходов, благоприятствующих событию $H_i$, к количеству всех равновозможных исходов. $P(X_{фигура}|H_i) = \\frac{a_i}{n^{2}-1}$ по той же причине - событию $X_{фигура}$ при условии $H_i$ благоприятствует $a_i$ исходов (вторая фигура стоит под ударом клетки с валентностью $a_i$),а количество всех равновозможных исходов уменьшилось на единицу, так как одна из клеток уже занята первой фигурой."
   ]
  },
  {
   "cell_type": "code",
   "execution_count": 1,
   "metadata": {
    "collapsed": true
   },
   "outputs": [],
   "source": [
    "%matplotlib inline\n",
    "import numpy as np\n",
    "import matplotlib.pyplot as plt\n",
    "from string import ascii_uppercase as alphabet"
   ]
  },
  {
   "cell_type": "code",
   "execution_count": 2,
   "metadata": {
    "collapsed": false
   },
   "outputs": [],
   "source": [
    "def get_board(board_size):\n",
    "\n",
    "    x, y = np.meshgrid(range(board_size), range(board_size))\n",
    "\n",
    "    board = np.empty(shape=(board_size, board_size), dtype='uint8')\n",
    "    text_colors = np.empty_like(board, dtype='<U5')\n",
    "\n",
    "    # force left bottom corner cell to be black\n",
    "    if board_size % 2 == 0:\n",
    "        extra_term = 1\n",
    "    else:\n",
    "        extra_term = 0\n",
    "\n",
    "    for i, j in zip(x.flatten(), y.flatten()):\n",
    "        board[i, j] = (i + j + extra_term) % 2\n",
    "        # text color should be the opposite to a cell color\n",
    "        text_colors[i, j] = 'black' if board[i, j] else 'white'\n",
    "\n",
    "    return board, text_colors"
   ]
  },
  {
   "cell_type": "code",
   "execution_count": 3,
   "metadata": {
    "collapsed": true
   },
   "outputs": [],
   "source": [
    "def get_valencies(piece, board):\n",
    "    # Get valencies for the given piece on the given board\n",
    "    valencies = np.empty_like(board)\n",
    "\n",
    "    if piece == 'Pawn':\n",
    "        valencies = pawn(valencies)\n",
    "\n",
    "    elif piece == 'Knight':\n",
    "        valencies = knight(valencies)\n",
    "\n",
    "    elif piece == 'Rook':\n",
    "        valencies = rook(valencies)\n",
    "\n",
    "    elif piece == 'King':\n",
    "        valencies = king(valencies)\n",
    "\n",
    "    else:\n",
    "        valencies = bishop_or_queen(piece, valencies)\n",
    "\n",
    "    return valencies"
   ]
  },
  {
   "cell_type": "code",
   "execution_count": 4,
   "metadata": {
    "collapsed": true
   },
   "outputs": [],
   "source": [
    "def plot_board(board, text_colors, piece):\n",
    "\n",
    "    board_size = np.shape(board)[0]\n",
    "\n",
    "    x, y = np.meshgrid(range(board_size), range(board_size))\n",
    "\n",
    "    # fixed figure size\n",
    "    plt.figure(figsize=(2*board_size/5, 2*board_size/5))\n",
    "    ax = plt.subplot(111)\n",
    "\n",
    "    ax.imshow(board, cmap='gray', interpolation='none')\n",
    "\n",
    "    # Display valency (degree) values\n",
    "    val_board = get_valencies(piece, board)\n",
    "\n",
    "    for i, j, valency, text_col in zip(x.flatten(), y.flatten(),\n",
    "                                       val_board.flatten(),\n",
    "                                       text_colors.flatten()):\n",
    "        ax.text(i, j, str(valency), color=text_col,\n",
    "                va='center', ha='center', fontsize=12)\n",
    "\n",
    "    ax.set_xticks(np.arange(board_size+1))  # one tick per cell\n",
    "    ax.set_xticklabels(alphabet[:board_size])  # set letters as ticklabels\n",
    "    # one tick per cell\n",
    "    ax.set_yticks(np.arange(board_size+1))\n",
    "    # set numbers as ticklabels (upside down)\n",
    "    ax.set_yticklabels(np.arange(board_size, 0, -1))\n",
    "\n",
    "    ax.axis('tight')  # get rid of the white spaces on the edges\n",
    "    # ax.set_title(piece, fontsize=30)\n",
    "    plt.show()"
   ]
  },
  {
   "cell_type": "markdown",
   "metadata": {},
   "source": [
    "## Пешка"
   ]
  },
  {
   "cell_type": "code",
   "execution_count": 5,
   "metadata": {
    "collapsed": true
   },
   "outputs": [],
   "source": [
    "def pawn(valencies):\n",
    "\n",
    "    valencies[0, :] = 0  # empty horizontal line\n",
    "    valencies[1:, 0] = valencies[1:, -1] = 1  # vertical edges\n",
    "    valencies[1:, 1:-1] = 2\n",
    "\n",
    "    return valencies"
   ]
  },
  {
   "cell_type": "markdown",
   "metadata": {},
   "source": [
    "Рассмотрим несколько частных случаев в поисках закономерности."
   ]
  },
  {
   "cell_type": "code",
   "execution_count": 6,
   "metadata": {
    "collapsed": false
   },
   "outputs": [],
   "source": [
    "def special_cases(piece, board_sizes):\n",
    "    ''' Plot boards of every board_size,\n",
    "    contained in board_sizes list for given piece.\n",
    "    '''\n",
    "    for board_size in board_sizes:\n",
    "        board, text_colors = get_board(board_size=board_size)\n",
    "        plot_board(board, text_colors, piece=piece)"
   ]
  },
  {
   "cell_type": "code",
   "execution_count": 7,
   "metadata": {
    "collapsed": false
   },
   "outputs": [
    {
     "data": {
      "image/png": "[encoded data removed]",
      "text/plain": [
       "<matplotlib.figure.Figure at 0x40e5a50>"
      ]
     },
     "metadata": {},
     "output_type": "display_data"
    },
    {
     "data": {
      "image/png": "[encoded data removed]",
      "text/plain": [
       "<matplotlib.figure.Figure at 0x4117130>"
      ]
     },
     "metadata": {},
     "output_type": "display_data"
    }
   ],
   "source": [
    "special_cases(piece='Pawn', board_sizes=range(4,6))"
   ]
  },
  {
   "cell_type": "markdown",
   "metadata": {},
   "source": [
    "Закономерность очевидна - всегда присутствует горизонталь (верхняя или нижняя - в зависимости от цвета фигуры), с которой пешка не бьёт ни одну клетку - все поля этой горизонтали $0$-валентны. Их количество равно $n$. \n",
    "На крайних вертикалях расположены $1$-валентные клетки, которых $2(n-1)$ штук.\n",
    "Все остальные поля - $2$-валентны, и расположены они прямоугольником размера $(n-1)\\times(n-2)$."
   ]
  },
  {
   "cell_type": "markdown",
   "metadata": {},
   "source": [
    "Тогда $$ P(X_{pawn}) = \\frac{n\\cdot 0}{n^{2}(n^{2}-1)} + \\frac{2(n-1)\\cdot 1}{n^{2}(n^{2}-1)} + \\frac{(n-1)(n-2)\\cdot 2}{n^{2}(n^{2}-1)}= \\frac{2(n-1)({\\color{green}1}+n-{\\color{green}2})}{n^{2}(n^{2}-1)} = \\frac{2(n-1)^{2}}{n^{2}(n^{2}-1)}. $$ Так как $(n^{2}-1) = (n+1)(n-1)$, $$ P(X_{pawn}) = \\frac{2(n-1)}{n^{2}(n+1)}. $$"
   ]
  },
  {
   "cell_type": "markdown",
   "metadata": {},
   "source": [
    "## Конь"
   ]
  },
  {
   "cell_type": "code",
   "execution_count": 8,
   "metadata": {
    "collapsed": false
   },
   "outputs": [],
   "source": [
    "def knight(valencies):\n",
    "\n",
    "    board_size = valencies.shape[0]\n",
    "\n",
    "    if board_size > 3:\n",
    "        # Four points in each corner are the same for any board size > 3.\n",
    "    \n",
    "        # corner cells\n",
    "        valencies[0, 0] = valencies[0, -1] = \\\n",
    "            valencies[-1, 0] = valencies[-1, -1] = 2\n",
    "\n",
    "        # cells horizontally/vertically adjacent to the corners\n",
    "        valencies[0, 1] = valencies[1, 0] = \\\n",
    "            valencies[0, -2] = valencies[1, -1] = \\\n",
    "            valencies[-2, 0] = valencies[-1, 1] = \\\n",
    "            valencies[-2, -1] = valencies[-1, -2] = 3\n",
    "\n",
    "        # cells diagonally adjacent\n",
    "        valencies[1, 1] = valencies[1, -2] = \\\n",
    "            valencies[-2, 1] = valencies[-2, -2] = 4\n",
    "\n",
    "        if board_size > 4:\n",
    "\n",
    "            valencies[0, 2:-2] = valencies[2:-2, 0] = \\\n",
    "               valencies[2:-2, -1] = valencies[-1, 2:-2] = 4\n",
    "\n",
    "            valencies[1, 2:-2] = valencies[2:-2, 1] = \\\n",
    "                valencies[2:-2, -2] = valencies[-2, 2:-2] = 6\n",
    "            \n",
    "            valencies[2:-2, 2:-2] = 8\n",
    "\n",
    "    # Patholigical cases\n",
    "    elif board_size == 3:\n",
    "        valencies = 2 * np.ones((board_size, board_size), dtype='uint8')\n",
    "        valencies[1, 1] = 0\n",
    "\n",
    "    else:\n",
    "        valencies = np.zeros((board_size, board_size), dtype='uint8')\n",
    "\n",
    "    return valencies"
   ]
  },
  {
   "cell_type": "code",
   "execution_count": 9,
   "metadata": {
    "collapsed": false,
    "scrolled": false
   },
   "outputs": [
    {
     "data": {
      "image/png": "[encoded data removed]",
      "text/plain": [
       "<matplotlib.figure.Figure at 0x4be4df0>"
      ]
     },
     "metadata": {},
     "output_type": "display_data"
    },
    {
     "data": {
      "image/png": "[encoded data removed]",
      "text/plain": [
       "<matplotlib.figure.Figure at 0x4c6c430>"
      ]
     },
     "metadata": {},
     "output_type": "display_data"
    },
    {
     "data": {
      "image/png": "[encoded data removed]",
      "text/plain": [
       "<matplotlib.figure.Figure at 0x4c98310>"
      ]
     },
     "metadata": {},
     "output_type": "display_data"
    }
   ],
   "source": [
    "special_cases(piece='Knight', board_sizes=[4,5,6])"
   ]
  },
  {
   "cell_type": "markdown",
   "metadata": {},
   "source": [
    "Количество $2$- и $3$-валентных клеток фиксировано при любом $n\\geq 4$. Первые расположены в углах, а вторые прилегают к ним по вертикали и горизонтали. Стало быть, количество $2$-валентных клеток равно $4$, а $3$-валентных - $8$, вдвое больше. $4$-валентные клетки образуют арифметическую прогрессию с начальным элементом $4$ и шагом $4$ для всех $n\\geq 4$ (при увеличении $n$ на единицу с каждой стороны появляется одна $4$-валентная клетка). Легко видеть, что рост количества $6$-валентных клеток устроен аналогично, однако существуют они только при $n\\geq 5$. Таким образом, $4$-валентных клеток $4(n-3)$, а $6$-валентных клеток - $4(n-4)$ штук. Количество $8$-валентных клеток растёт квадратично, к тому же, они существуют только при $n\\geq 5$. То есть, их количество - $(n-4)^2$. Итого имеем:"
   ]
  },
  {
   "cell_type": "markdown",
   "metadata": {},
   "source": [
    "$$ P(X_{knight}) = \\frac{4\\cdot 2}{n^{2}(n^{2}-1)} + \\frac{8\\cdot 3}{n^{2}(n^{2}-1)} + \\frac{4(n-3)\\cdot 4}{n^{2}(n^{2}-1)} + \\frac{4(n-4)\\cdot 6}{n^{2}(n^{2}-1)} + \\frac{(n-4)^2\\cdot 8}{n^{2}(n^{2}-1)} = $$\n",
    "$$ = \\frac{32 + 24(n-4) + 16(n-3) + 8(n-4)^{2}}{n^{2}(n^{2}-1)} = $$\n",
    "$$ = \\frac{8(4+3(n-4)+2(n-3)+(n-4)^{2})}{n^{2}(n^{2}-1)} = \\frac{8({\\color{green} 4}+{\\color{red} {3n}}-{\\color{green} {12}}+{\\color{red} {2n}} - {\\color{green} 6}+ n^{2}-{\\color{red} {8n}}+{\\color{green} {16}})}{n^{2}(n^{2}-1)} = $$\n",
    "$$ \\frac{8(n^{2}-3n+2)}{n^{2}(n^{2}-1)} = \\frac{8(n-1)(n-2)}{n^{2}(n^{2}-1)} = \\frac{8(n-2)}{n^{2}(n+1)}. $$"
   ]
  },
  {
   "cell_type": "markdown",
   "metadata": {},
   "source": [
    "## Офицер"
   ]
  },
  {
   "cell_type": "markdown",
   "metadata": {
    "collapsed": true
   },
   "source": [
    "Расположение валентностей для офицера и ферзя практически идентично, за исключением того, что наименьшее значение валентности для ферзя в три раза превышает оное для офицера."
   ]
  },
  {
   "cell_type": "code",
   "execution_count": 10,
   "metadata": {
    "collapsed": true
   },
   "outputs": [],
   "source": [
    "def bishop_or_queen(piece, valencies):\n",
    "    \n",
    "    board_size = np.shape(valencies)[0]\n",
    "    \n",
    "    if piece == 'Bishop':\n",
    "        smallest_val = board_size-1\n",
    "\n",
    "    else:\n",
    "        smallest_val = 3*(board_size-1)\n",
    "    \n",
    "    # external square\n",
    "    valencies[0, :] = valencies[:, 0] = \\\n",
    "        valencies[:, -1] = valencies[-1, :] = smallest_val\n",
    "    \n",
    "    # internal sqares\n",
    "    for i in range (1, int(board_size/2)+1):\n",
    "        # top, left\n",
    "        # right, bottom\n",
    "        valencies[i, i:-i] = valencies[i:-i, i] = \\\n",
    "            valencies[i:-i, -(i+1)] = valencies[-(i+1), i:-i] = \\\n",
    "            smallest_val + 2*i\n",
    "        \n",
    "    return valencies"
   ]
  },
  {
   "cell_type": "code",
   "execution_count": 11,
   "metadata": {
    "collapsed": false
   },
   "outputs": [
    {
     "data": {
      "image/png": "[encoded data removed]",
      "text/plain": [
       "<matplotlib.figure.Figure at 0x50bf730>"
      ]
     },
     "metadata": {},
     "output_type": "display_data"
    },
    {
     "data": {
      "image/png": "[encoded data removed]",
      "text/plain": [
       "<matplotlib.figure.Figure at 0x50b48d0>"
      ]
     },
     "metadata": {},
     "output_type": "display_data"
    },
    {
     "data": {
      "image/png": "[encoded data removed]",
      "text/plain": [
       "<matplotlib.figure.Figure at 0x50504d0>"
      ]
     },
     "metadata": {},
     "output_type": "display_data"
    },
    {
     "data": {
      "image/png": "[encoded data removed]",
      "text/plain": [
       "<matplotlib.figure.Figure at 0x40e58f0>"
      ]
     },
     "metadata": {},
     "output_type": "display_data"
    }
   ],
   "source": [
    "special_cases(piece='Bishop', board_sizes=range(4,8))"
   ]
  },
  {
   "cell_type": "markdown",
   "metadata": {},
   "source": [
    "Видно, что эквивалентные клетки располагаются по периметрам образованных ими концентрических квадратов, при чём валентность возрастает с шагом $2$ по мере приближения к центру. Поскольку при чётных $n$ в центре доски расположены $4$ поля с максимальной валентностью, а при нечётных - одно, случаи чётных и нечётных $n$ представляется удобным рассмотреть раздельно."
   ]
  },
  {
   "cell_type": "markdown",
   "metadata": {},
   "source": [
    "### Чётные $n$"
   ]
  },
  {
   "cell_type": "markdown",
   "metadata": {},
   "source": [
    "Каково количество различных значений валентности, а также их величина? Наименьшее значение равно $(n-1)$, так как это количество клеток на диагонали минус клетка, на которой стоит сама фигура. Наибольшее значение -  $(n-1) + (n-2) = (2n-3)$, так как оно больше наименьшего значения на количество клеток, расположенных на диагонали квадрата со стороной $(n-1)$ минус клетка, на которой стоит сама фигура. "
   ]
  },
  {
   "cell_type": "markdown",
   "metadata": {},
   "source": [
    "Пусть $s$ - количество шагов размера $2$, которое требуется совершить для перехода от значения $(n-1)$ к значению $(2n-3)$. Тогда\n",
    "$$ n-1 + 2s = 2n-3, $$ $$ 2s = {\\color{red} {2n}} - {\\color{green} 3} - {\\color{red} n} + {\\color{green} 1} = n - 2 \\Rightarrow s = \\frac{n-2}{2}. $$\n",
    "Так как $n$ - чётное, $s$ $\\in \\mathbb{Z}$."
   ]
  },
  {
   "cell_type": "markdown",
   "metadata": {},
   "source": [
    "Однако ввиду того, что *один* шаг совершается между *двумя* разными значениями, количество различных значений валентности на единицу больше количества шагов, требующихся для перехода от минимального до максимального. В таком случае имеем $\\frac{n-2}{2} + 1 = \\frac{n}{2} - {\\color{green} 1} +{\\color{green} 1} = \\frac{n}{2}.$  Итого, на доске со стороной $n$ содержится $\\frac{n}{2}$ клеток с различными значениями валентности - $\\frac{n}{2}$ концентрических квадратов."
   ]
  },
  {
   "cell_type": "markdown",
   "metadata": {},
   "source": [
    "В каком количестве представлено каждое из значений? Количество элементов, расположенных по периметру образованного клетками квадрата со стороной $\\lambda$, равно учетверённой стороне минус четыре угловые клетки, которые оказываются учтёнными дважды. Тогда количество клеток с одноимённым значением валентности равно $4\\lambda-4 = 4(\\lambda-1)$, где $\\lambda$ изменяется с шагом $2$ в пределах от $2$ (центральный квадрат) до $n$ (внешний)."
   ]
  },
  {
   "cell_type": "markdown",
   "metadata": {},
   "source": [
    "При этом от $\\lambda$ зависит не только количество значений валентности, но и их величина - она увеличивается на $\\lambda$ по мере приближения к центру доски. Таким образом, имея наименьшее значение валентности, встречающееся на доске, а также количество концентрических квадратов, нетрудно составить зависимую от $\\lambda$ сумму $P(X^{even}_{bishop}) = \\sum_{}P(H_i) \\cdot P(X|H_i)$. Однако удобнее суммировать по индексу, который изменяется с шагом $1$, потому заменим $k = \\frac{\\lambda}{2}.$ Теперь можно записать:"
   ]
  },
  {
   "cell_type": "markdown",
   "metadata": {},
   "source": [
    "$$ P(X^{even}_{bishop}) = \\sum_{k = 1}^{\\frac{n}{2}} \\frac{4(n+1-2k)\\cdot(n-3+2k)} {n^{2}(n^{2}-1)} = \\frac{4}{n^{2}(n^{2}-1)} \\sum_{k = 1}^{\\frac{n}{2}} n^{2} - {\\color{red} {3n}} + {\\color{blue} {2kn}} + {\\color{red} {n}} - 3 + {\\color{cyan} {2k}} - {\\color{blue} {2kn}} + {\\color{cyan} {6k}} - 4k^{2}  = $$ \n",
    "\n",
    "$$ =\\frac{4}{n^{2}(n^{2}-1)} \\sum_{k = 1}^{\\frac{n}{2}} n^{2} - 2n - 3 + 8k - 4k^{2}. $$ \n",
    "Вынесем первые три слагаемых за знак суммы, так как они не зависят от $k$, умножив их на $\\frac{n}{2}$ - количество раз, которое они встречаются в сумме: \n",
    "\n",
    "$$ P(X^{even}_{bishop}) = \\frac{4}{n^{2}(n^{2}-1)}\\ [\\frac{n}{2}(n^{2} - 2n - 3) + \\sum_{k = 1}^{\\frac{n}{2}}8k - 4k^{2}] $$"
   ]
  },
  {
   "cell_type": "markdown",
   "metadata": {},
   "source": [
    "Рассмотрим отдельно выражение под знаком суммы."
   ]
  },
  {
   "cell_type": "markdown",
   "metadata": {},
   "source": [
    "$$ \\sum_{k = 1}^{\\frac{n}{2}}8k - 4k^{2} = 8\\sum_{k = 1}^{\\frac{n}{2}}k - 4\\sum_{k = 1}^{\\frac{n}{2}} k^{2}. $$"
   ]
  },
  {
   "cell_type": "markdown",
   "metadata": {},
   "source": [
    "Обозначим $S_1 = 8\\sum_{k = 1}^{\\frac{n}{2}}k$, $S_2 = 4\\sum_{k = 1}^{\\frac{n}{2}} k^{2}.$"
   ]
  },
  {
   "cell_type": "markdown",
   "metadata": {},
   "source": [
    "$S_1$ - это умноженная на $8$ сумма первых $\\frac{n}{2}$ натуральных чисел, которая есть сумма первых $\\frac{n}{2}$ членов арифметической прогрессии, поэтому "
   ]
  },
  {
   "cell_type": "markdown",
   "metadata": {},
   "source": [
    "$$ S_1 = 8\\frac{\\frac{n}{2}(\\frac{n}{2}+1)}{2} = 4\\frac{n}{2}(\\frac{n}{2}+1) = 2n(\\frac{n}{2}+1) = \\frac{2n^2}{2}+2n = n^2 + 2n = n(n+2). $$"
   ]
  },
  {
   "cell_type": "markdown",
   "metadata": {},
   "source": [
    "$S_2$ - это умноженная на 4 сумма квадратов первых $\\frac{n}{2}$ натуральных чисел, поэтому"
   ]
  },
  {
   "cell_type": "markdown",
   "metadata": {},
   "source": [
    "$$ S_2 = 4\\frac{\\frac{n}{2}(\\frac{n}{2}+1)(2\\frac{n}{2}+1)}{6} = \\frac{n(n+2)(n+1)}{6}. $$"
   ]
  },
  {
   "cell_type": "markdown",
   "metadata": {},
   "source": [
    "$$ S_1 - S_2 = n(n+2) - \\frac{n(n+2)(n+1)}{6} = n(n+2) (1 - \\frac{(n+1)}{6}) = \\frac{n(n+2)({\\color{green} 6}-n-{\\color{green} 1})}{6} = \\frac{n(n+2)(-n + 5)}{6} = -\\frac{n(n+2)(n-5)}{6}.$$ "
   ]
  },
  {
   "cell_type": "markdown",
   "metadata": {},
   "source": [
    "Тогда"
   ]
  },
  {
   "cell_type": "markdown",
   "metadata": {},
   "source": [
    "$$ P(X^{even}_{bishop}) = \\frac{4}{n^{2}(n^{2}-1)}\\ [\\frac{n}{2}(n^{2} - 2n - 3) - \\frac{n(n+2)(n-5)}{6} ] = \\frac{4}{n^{2}(n^{2}-1)}\\ [\\frac{n(3n^{2} - 6n - 9)}{6} - \\frac{n(n+2)(n-5)}{6} ] = $$\n",
    "$$ = \\frac{4n}{6n^{2}(n^{2}-1)}({\\color{orange} {3n^{2}}} - {\\color{red} {6n}} - {\\color{green} 9} - {\\color{orange} {n^2}} + {\\color{red} {5n}} - {\\color{red} {2n}} + {\\color{green} {10}}) = \\frac{2}{3n(n^{2}-1)}(2n^2 - 3n + 1) = \\frac{2(2n-1)(n-1)}{3n(n^{2}-1)} = \\frac{2(2n-1)}{3n(n+1)}. $$"
   ]
  },
  {
   "cell_type": "markdown",
   "metadata": {},
   "source": [
    "### Нечётные $n$"
   ]
  },
  {
   "cell_type": "markdown",
   "metadata": {},
   "source": [
    "Каково количество различных значений валентности? Наименьшее значение равно $(n-1)$ из тех же рассуждений, что и для чётных $n$. Наибольшее значение, очевидно, равно удвоенному наименьшему -  $(n-1) + (n-1) = 2(n-1)$. "
   ]
  },
  {
   "cell_type": "markdown",
   "metadata": {},
   "source": [
    "Пусть $s$ - количество шагов размера $2$, которое требуется совершить для перехода от значения $(n-1)$ к значению $2(n-1)$. Тогда\n",
    "$$n-1 + 2s = 2n-2,$$ $$2s = {\\color{red} {2n}} - {\\color{green} 2} - {\\color{red} n} + {\\color{green} 1} = n - 1 \\Rightarrow s = \\frac{n-1}{2}.$$\n",
    "Так как $n$ - нечётное, $s$ $\\in \\mathbb{Z}$. Итого имеем $\\frac{n-1}{2} + 1 = \\frac{n}{2} - {\\color{green} {\\frac{1}{2}}} +{\\color{green} 1} = \\frac{n}{2} + \\frac{1}{2} = \\frac{n+1}{2}$ клеток с различными значениями валентности."
   ]
  },
  {
   "cell_type": "markdown",
   "metadata": {},
   "source": [
    "В каком количестве представлено каждое из значений? Рассуждения для чётных и нечётных $n$ идентичны, за исключением того, что выражение $4(\\lambda-1)$ равно нулю при $\\lambda = 1$ (в центральной клетке доски). По этой причине слагаемое $P(H_{\\frac{n+1}{2}}) \\cdot P(X|H_{\\frac{n+1}{2}})$ должно быть вынесено за знак общей суммы, а индекс суммирования будет принимать на единицу меньше значений: $\\frac{n+1}{2} - 1 = \\frac{n}{2} + \\frac{1}{2} - 1 = \\frac{n}{2} + {\\color{green} {\\frac{1}{2}}} - {\\color{green} 1} = \\frac{n}{2} - \\frac{1}{2} = \\frac{n-1}{2}.$"
   ]
  },
  {
   "cell_type": "markdown",
   "metadata": {},
   "source": [
    "Тогда можно записать:"
   ]
  },
  {
   "cell_type": "markdown",
   "metadata": {},
   "source": [
    "$$ P(X^{odd}_{bishop}) = \\frac{1\\cdot 2(n-1)}{n^{2}(n^{2}-1)} + \\sum_{k = 1}^{\\frac{n-1}{2}} \\frac{4(n+1-2k)\\cdot(n-3+2k)} {n^{2}(n^{2}-1)}. $$"
   ]
  },
  {
   "cell_type": "markdown",
   "metadata": {},
   "source": [
    "Легко видеть, что выражение под знаком суммы отличается от $P(X^{even}_{bishop})$ только верхней границей суммирования. Следовательно, аналогично предыдущим выкладкам можно обозначить: $S_1 = 8\\sum_{k = 1}^{\\frac{n-1}{2}}k$, $S_2 = 4\\sum_{k = 1}^{\\frac{n-1}{2}} k^{2}.$"
   ]
  },
  {
   "cell_type": "markdown",
   "metadata": {},
   "source": [
    "$$ S_1 = 8\\frac{\\frac{n-1}{2}(\\frac{n-1}{2}+1)}{2} = 4\\frac{n-1}{2}(\\frac{n+1}{2}) = (n-1)(n+1). $$"
   ]
  },
  {
   "cell_type": "markdown",
   "metadata": {},
   "source": [
    "$$ S_2 = 4\\frac{\\frac{n-1}{2}(\\frac{n-1}{2}+1)(2\\frac{n-1}{2}+1)}{6} = 4\\frac{\\frac{n-1}{2}(\\frac{n-1}{2}+1)(2\\frac{n-1}{2}+1)}{6} = \\frac{(n-1)(\\frac{n+1}{2})n}{3} = \\frac{(n-1)(n+1)n}{6}. $$"
   ]
  },
  {
   "cell_type": "markdown",
   "metadata": {},
   "source": [
    "$$ S_1 - S_2 = (n-1)(n+1) - \\frac{(n-1)(n+1)n}{6} = (n-1)(n+1)(1 - \\frac{n}{6}) = \\frac{(n-1)(n+1)(6 - n)}{6} = -\\frac{(n-1)(n+1)(n-6)}{6}. $$"
   ]
  },
  {
   "cell_type": "markdown",
   "metadata": {},
   "source": [
    "Тогда"
   ]
  },
  {
   "cell_type": "markdown",
   "metadata": {
    "collapsed": true
   },
   "source": [
    "$$ P(X^{odd}_{bishop}) = \\frac{2(n-1)}{n^{2}(n^{2}-1)} + \\frac{4}{n^{2}(n^{2}-1)}\\ [\\frac{n-1}{2}(n^{2} - 2n - 3) -\\frac{(n-1)(n+1)(n-6)}{6}] = $$\n",
    "$$ = \\frac{2}{n^{2}(n+1)} + \\frac{4(n-1)}{n^{2}(n^{2}-1)} [\\frac{3n^2 - 6n - 9}{6} -\\frac{(n+1)(n-6)}{6}] = \\frac{2}{n^{2}(n+1)} + \\frac{4}{6n^{2}(n+1)}({\\color{orange} {3n^2}} - {\\color{red} {6n}} - {\\color{green} 9} - {\\color{orange} {n^2}} + {\\color{red} {6n}} - {\\color{red} n} + {\\color{green} 6}) = $$\n",
    "$$ = \\frac{2}{n^{2}(n+1)} + \\frac{4}{6n^{2}(n+1)}(2n^2 - n - 3) = \\frac{{\\color{green} {12}} + 8n^2 - 4n - {\\color{green} {12}}}{6n^{2}(n+1)} = \\frac{4n(2n-1)}{6n^{2}(n+1)} = \\frac{2(2n-1)}{3n(n+1)}. $$"
   ]
  },
  {
   "cell_type": "markdown",
   "metadata": {},
   "source": [
    "Как видно, чётность доски не влияет на рассматриваемую вероятность: $P(X^{even}_{bishop}) = P(X^{odd}_{bishop}) = P(X_{bishop}) = \\frac{2(2n-1)}{3n(n+1)}$."
   ]
  },
  {
   "cell_type": "markdown",
   "metadata": {},
   "source": [
    "## Ладья"
   ]
  },
  {
   "cell_type": "code",
   "execution_count": 12,
   "metadata": {
    "collapsed": false
   },
   "outputs": [],
   "source": [
    "def rook(valencies):\n",
    "    \n",
    "    board_size = np.shape(valencies)[0]\n",
    "    \n",
    "    x, y = np.meshgrid(range(board_size), range(board_size))\n",
    "    \n",
    "    for i, j in zip(x.flatten(), y.flatten()):\n",
    "        valencies[i, j] = 2*(board_size-1)\n",
    "        \n",
    "    return valencies        "
   ]
  },
  {
   "cell_type": "code",
   "execution_count": 13,
   "metadata": {
    "collapsed": false
   },
   "outputs": [
    {
     "data": {
      "image/png": "[encoded data removed]",
      "text/plain": [
       "<matplotlib.figure.Figure at 0x41406d0>"
      ]
     },
     "metadata": {},
     "output_type": "display_data"
    },
    {
     "data": {
      "image/png": "[encoded data removed]",
      "text/plain": [
       "<matplotlib.figure.Figure at 0x4bfb990>"
      ]
     },
     "metadata": {},
     "output_type": "display_data"
    }
   ],
   "source": [
    "special_cases(piece='Rook', board_sizes=range(4,6))"
   ]
  },
  {
   "cell_type": "markdown",
   "metadata": {
    "collapsed": true
   },
   "source": [
    "Известная особенность ладьи - независимо от расположения на доске, она всегда контролирует постоянное количество полей, а именно $2(n-1)$ - это сумма полей по горизонтали и вертикали минус поле, на котором стоит сама ладья.\n",
    "$$P(X_{rook}) = \\frac{n^{2}\\cdot 2(n-1)}{n^{2}(n^{2}-1)} = \\frac{2}{(n+1)}.$$"
   ]
  },
  {
   "cell_type": "markdown",
   "metadata": {},
   "source": [
    "## Ферзь"
   ]
  },
  {
   "cell_type": "code",
   "execution_count": 14,
   "metadata": {
    "collapsed": false
   },
   "outputs": [
    {
     "data": {
      "image/png": "[encoded data removed]",
      "text/plain": [
       "<matplotlib.figure.Figure at 0x4c13450>"
      ]
     },
     "metadata": {},
     "output_type": "display_data"
    },
    {
     "data": {
      "image/png": "[encoded data removed]",
      "text/plain": [
       "<matplotlib.figure.Figure at 0x4c1a970>"
      ]
     },
     "metadata": {},
     "output_type": "display_data"
    },
    {
     "data": {
      "image/png": "[encoded data removed]",
      "text/plain": [
       "<matplotlib.figure.Figure at 0x6184e50>"
      ]
     },
     "metadata": {},
     "output_type": "display_data"
    },
    {
     "data": {
      "image/png": "[encoded data removed]",
      "text/plain": [
       "<matplotlib.figure.Figure at 0x518c0f0>"
      ]
     },
     "metadata": {},
     "output_type": "display_data"
    }
   ],
   "source": [
    "special_cases(piece='Queen', board_sizes=range(4,8))"
   ]
  },
  {
   "cell_type": "markdown",
   "metadata": {},
   "source": [
    "Поскольку ферзь сочетает в себе возможности офицера и ладьи, выражение для него может быть получено как сумма выражений для этих фигур:"
   ]
  },
  {
   "cell_type": "markdown",
   "metadata": {},
   "source": [
    "$$ P(X_{queen}) = \\frac{2(2n-1)}{3n(n+1)} + \\frac{2}{n+1} = \\frac{2(2n-1) + 6n}{3n(n+1)} = \\frac{{\\color{red} {4n}} - 2 + {\\color{red} {6n}}}{3n(n+1)} = \\frac{10n - 2}{3n(n+1)} = \\frac{2(5n-1)}{3n(n+1)}. $$"
   ]
  },
  {
   "cell_type": "markdown",
   "metadata": {},
   "source": [
    "## Король"
   ]
  },
  {
   "cell_type": "code",
   "execution_count": 15,
   "metadata": {
    "collapsed": true
   },
   "outputs": [],
   "source": [
    "def king(valencies):\n",
    "    \n",
    "    # corners : top left = top right = \\\n",
    "                # bottom left = bottom right\n",
    "    valencies[0, 0] = valencies[0, -1] = \\\n",
    "        valencies[-1, 0] = valencies[-1, -1] = 3\n",
    "    \n",
    "    # edges : top, left, right, bottom\n",
    "    valencies[0, 1:-1] = valencies[1:-1, 0] = \\\n",
    "        valencies[1:-1, -1] = valencies[-1, 1:-1] = 5\n",
    "    \n",
    "    # center\n",
    "    valencies[1:-1, 1:-1] = 8\n",
    "    \n",
    "    return valencies"
   ]
  },
  {
   "cell_type": "code",
   "execution_count": 16,
   "metadata": {
    "collapsed": false
   },
   "outputs": [
    {
     "data": {
      "image/png": "[encoded data removed]",
      "text/plain": [
       "<matplotlib.figure.Figure at 0x516ed30>"
      ]
     },
     "metadata": {},
     "output_type": "display_data"
    },
    {
     "data": {
      "image/png": "[encoded data removed]",
      "text/plain": [
       "<matplotlib.figure.Figure at 0x3156cb0>"
      ]
     },
     "metadata": {},
     "output_type": "display_data"
    }
   ],
   "source": [
    "special_cases(piece='King', board_sizes=range(4,6))"
   ]
  },
  {
   "cell_type": "markdown",
   "metadata": {},
   "source": [
    "Видно, что края доски, за исключением $3$-валентных углов, $5$-валентны, а всё оставшееся пространство $8$-валентно. Ввиду того, что краёв $4$, а $5$-валентных клеток на одном краю $(n-2)$ штук, имеем: \n",
    "$$ P(X_{king}) = \\frac{4\\cdot 3}{n^{2}(n^{2}-1)} +\\frac{4(n-2)\\cdot 5}{n^{2}(n^{2}-1)} +\\frac{(n-2)^2\\cdot 8}{n^{2}(n^{2}-1)} = \\frac{12 + 20(n-2) + 8(n-2)^2}{n^{2}(n^{2}-1)} = \\frac{4(3 + 5(n-2)+2(n-2)^2)}{n^{2}(n^{2}-1)} = $$ \n",
    "$$ = \\frac{4(3 + 5n-10+2(n^2 - 4n + 4))}{n^{2}(n^{2}-1)} = \\frac{4({\\color{green} 3} + {\\color{red} {5n}}-{\\color{green} {10}}+2n^2 - {\\color{red} {8n}} + {\\color{green} {8}} )}{n^{2}(n^{2}-1)} = \\frac{4(2n^2 - 3n + 1)}{n^{2}(n^{2}-1)} = \\frac{4(2n-1)(n-1)}{n^{2}(n^{2}-1)} = \\frac{4(2n-1)}{n^{2}(n+1)}.$$"
   ]
  },
  {
   "cell_type": "code",
   "execution_count": 17,
   "metadata": {
    "collapsed": false
   },
   "outputs": [],
   "source": [
    "def get_probabilities(piece, n):\n",
    "    \n",
    "    # NOTE: Results can be wrong for large n because of dividing by\n",
    "    # the huge denominator!\n",
    "    if piece == 'Pawn':\n",
    "        return 2*(n-1)/((n**2)*(n+1)) \n",
    "    \n",
    "    elif piece == 'Knight':\n",
    "        return 8*(n-2)/((n**2)*(n+1)) \n",
    "\n",
    "    elif piece == 'Bishop':\n",
    "        return 2*(2*n-1)/(3*n*(n+1)) \n",
    "   \n",
    "    elif piece == 'Rook':\n",
    "        return 2/(n+1) \n",
    "\n",
    "    elif piece == 'Queen':\n",
    "        return 2*(5*n-1)/(3*n*(n+1)) \n",
    "\n",
    "    elif piece == 'King':\n",
    "        return 4*(2*n-1)/(n**2*(n+1))\n"
   ]
  },
  {
   "cell_type": "code",
   "execution_count": 18,
   "metadata": {
    "collapsed": true
   },
   "outputs": [],
   "source": [
    "def straightforward_prob(piece, board_size):\n",
    "    # Get probability directly from the board of valencies\n",
    "    board, _ = get_board(board_size)\n",
    "    val_board = get_valencies(piece, board)\n",
    "    \n",
    "    unique, counts = np.unique(val_board, return_counts=True)\n",
    "    prob = np.dot(unique, counts)/((board_size)**2 * (board_size**2 - 1))\n",
    "    \n",
    "    return prob "
   ]
  },
  {
   "cell_type": "markdown",
   "metadata": {},
   "source": [
    "График, отображающий зависимость вероятности от размера доски, представлен как функция действительного переменного в целях наглядности.   "
   ]
  },
  {
   "cell_type": "code",
   "execution_count": 19,
   "metadata": {
    "collapsed": false
   },
   "outputs": [
    {
     "data": {
      "image/png": "[encoded data removed]",
      "text/plain": [
       "<matplotlib.figure.Figure at 0x508d950>"
      ]
     },
     "metadata": {},
     "output_type": "display_data"
    }
   ],
   "source": [
    "start = 2\n",
    "end = 16\n",
    "step = 0.02\n",
    "x = np.arange(start, end)\n",
    "names_list = ['Pawn', 'Knight', 'Bishop', 'Rook', 'Queen', 'King']\n",
    "\n",
    "# Check if analytical results match straightforward calculations\n",
    "for name in names_list:\n",
    "    for board_size in x:\n",
    "        y = get_probabilities(name, board_size)\n",
    "        if not y == straightforward_prob(name, board_size):\n",
    "            print('Mistake in equation for %s' % name)\n",
    "# print('Analytical results approved')\n",
    "\n",
    "# Let's expand the range from Z to R for the sake of visual clarity\n",
    "x = np.arange(start, end, step)\n",
    "fig, ax = plt.subplots(figsize=(8, 5))  \n",
    "\n",
    "for name in names_list:\n",
    "    y = get_probabilities(name, x)   \n",
    "    plt.plot(x, y, label=name, linewidth=3.0)\n",
    "          \n",
    "legend = plt.legend(loc='upper right')\n",
    "\n",
    "for label in legend.get_lines():\n",
    "    label.set_linewidth(3)  \n",
    "\n",
    "for label in legend.get_texts(): \n",
    "    label.set_fontsize(20)\n",
    "\n",
    "plt.xlabel(\"Board size\", fontsize=20)    \n",
    "plt.ylabel(\"Probability\", fontsize=20)    \n",
    "plt.show()   "
   ]
  },
  {
   "cell_type": "markdown",
   "metadata": {
    "collapsed": true
   },
   "source": [
    "Ссылка на оригинальный ноутбук: https://github.com/esimonov/chess_prob/blob/master/01-Square%20Boards(RUS).ipynb"
   ]
  },
  {
   "cell_type": "code",
   "execution_count": null,
   "metadata": {
    "collapsed": true
   },
   "outputs": [],
   "source": []
  }
 ],
 "metadata": {
  "kernelspec": {
   "display_name": "Python 3",
   "language": "python",
   "name": "python3"
  },
  "language_info": {
   "codemirror_mode": {
    "name": "ipython",
    "version": 3
   },
   "file_extension": ".py",
   "mimetype": "text/x-python",
   "name": "python",
   "nbconvert_exporter": "python",
   "pygments_lexer": "ipython3",
   "version": "3.5.1"
  }
 },
 "nbformat": 4,
 "nbformat_minor": 0
}
